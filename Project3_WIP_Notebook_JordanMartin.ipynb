{
 "cells": [
  {
   "cell_type": "markdown",
   "metadata": {},
   "source": [
    "## Initial Load of M.csv"
   ]
  },
  {
   "cell_type": "code",
   "execution_count": 36,
   "metadata": {},
   "outputs": [
    {
     "name": "stdout",
     "output_type": "stream",
     "text": [
      "{'1': (0.25, ['2', '3', '4']), '2': (0.25, ['1', '4']), '3': (0.25, ['1']), '4': (0.25, ['2', '3'])}\n"
     ]
    }
   ],
   "source": [
    "import csv\n",
    "def read_in_matrix(file_name):\n",
    "    # initialize dictionary\n",
    "    adjacency_dict = {}\n",
    "    # read in file\n",
    "    with open(file_name, newline='') as f:\n",
    "        reader = csv.reader(f)\n",
    "        # for each row\n",
    "        for row in reader:\n",
    "            # get the three values\n",
    "            input_link = row[0]\n",
    "            output_link = row[1]\n",
    "            # if the input link is not in the dict add it\n",
    "            if input_link not in adjacency_dict.keys():\n",
    "                adjacency_dict[input_link] = [output_link]\n",
    "            # otherwise just append the output link to its list\n",
    "            else:\n",
    "                adjacency_dict[input_link].append(output_link)\n",
    "            # if the output link is not in the dict, add it with empty list\n",
    "            if output_link not in adjacency_dict.keys():\n",
    "                adjacency_dict[output_link] = []\n",
    "    # get initial ranks, return the new dict containing all information\n",
    "    return {in_link: (1.0/len(adjacency_dict), out_links) for in_link, out_links in adjacency_dict.items()}\n",
    "            \n",
    "dictionary = read_in_matrix('M.csv')\n",
    "print(dictionary)"
   ]
  },
  {
   "cell_type": "markdown",
   "metadata": {},
   "source": [
    "## Map Initial Load"
   ]
  },
  {
   "cell_type": "code",
   "execution_count": 41,
   "metadata": {},
   "outputs": [],
   "source": [
    "def mapper(dictionary, link):\n",
    "    p = dictionary[str(link)][0]/len(dictionary[str(link)][1])\n",
    "    return {out_link: (p, dictionary[out_link][1]) for out_link in dictionary[str(link)][1]}\n",
    "\n",
    "map_results = []\n",
    "for link in dictionary.keys():\n",
    "    map_results.append(mapper(dictionary, link))"
   ]
  },
  {
   "cell_type": "markdown",
   "metadata": {},
   "source": [
    "### Print Results"
   ]
  },
  {
   "cell_type": "code",
   "execution_count": 42,
   "metadata": {},
   "outputs": [
    {
     "name": "stdout",
     "output_type": "stream",
     "text": [
      "[{'1': (0.10416666666666666, ['2', '3', '4']), '4': (0.10416666666666666, ['2', '3'])}, {'1': (0.20833333333333331, ['2', '3', '4'])}, {'2': (0.10416666666666666, ['1', '4']), '3': (0.10416666666666666, ['1'])}, {'2': (0.125, ['1', '4']), '3': (0.125, ['1']), '4': (0.125, ['2', '3'])}]\n"
     ]
    }
   ],
   "source": [
    "print(map_results)"
   ]
  },
  {
   "cell_type": "markdown",
   "metadata": {},
   "source": [
    "## Reduce Mapped Results"
   ]
  },
  {
   "cell_type": "code",
   "execution_count": 43,
   "metadata": {},
   "outputs": [],
   "source": [
    "def reducer(map_results):\n",
    "    new_ranks = {}\n",
    "    for result in map_results:\n",
    "        for key, value in result.items():\n",
    "            if key not in new_ranks:\n",
    "                new_ranks[key] = value\n",
    "            else:\n",
    "                new_ranks[key] = (value[0] + new_ranks[key][0], new_ranks[key][1])\n",
    "    return new_ranks\n",
    "\n",
    "dictionary = reducer(map_results)"
   ]
  },
  {
   "cell_type": "markdown",
   "metadata": {},
   "source": [
    "### Print Results"
   ]
  },
  {
   "cell_type": "code",
   "execution_count": 44,
   "metadata": {},
   "outputs": [
    {
     "name": "stdout",
     "output_type": "stream",
     "text": [
      "{'1': (0.3125, ['2', '3', '4']), '4': (0.22916666666666666, ['2', '3']), '2': (0.22916666666666666, ['1', '4']), '3': (0.22916666666666666, ['1'])}\n"
     ]
    }
   ],
   "source": [
    "print(dictionary)"
   ]
  },
  {
   "cell_type": "code",
   "execution_count": null,
   "metadata": {},
   "outputs": [],
   "source": []
  }
 ],
 "metadata": {
  "kernelspec": {
   "display_name": "Python 3",
   "language": "python",
   "name": "python3"
  },
  "language_info": {
   "codemirror_mode": {
    "name": "ipython",
    "version": 3
   },
   "file_extension": ".py",
   "mimetype": "text/x-python",
   "name": "python",
   "nbconvert_exporter": "python",
   "pygments_lexer": "ipython3",
   "version": "3.7.4"
  }
 },
 "nbformat": 4,
 "nbformat_minor": 2
}
