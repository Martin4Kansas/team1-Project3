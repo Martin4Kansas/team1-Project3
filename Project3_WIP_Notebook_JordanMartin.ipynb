{
 "cells": [
  {
   "cell_type": "markdown",
   "metadata": {},
   "source": [
    "## Initial Load, Mapper, and Reducer Definitions"
   ]
  },
  {
   "cell_type": "code",
   "execution_count": 1,
   "metadata": {},
   "outputs": [],
   "source": [
    "import csv\n",
    "import json\n",
    "\n",
    "INITIAL_CSV = 'M.csv'\n",
    "JSON_FILE_NAME = 'dictionary.json'\n",
    "\n",
    "def convert_csv_to_json():\n",
    "    # initialize dictionary\n",
    "    adjacency_dict = {}\n",
    "    # read in file\n",
    "    with open(INITIAL_CSV, newline='') as f:\n",
    "        reader = csv.reader(f)\n",
    "        # for each row\n",
    "        for row in reader:\n",
    "            # get the three values\n",
    "            input_link = row[0]\n",
    "            output_link = row[1]\n",
    "            # if the input link is not in the dict add it\n",
    "            if input_link not in adjacency_dict.keys():\n",
    "                adjacency_dict[input_link] = [output_link]\n",
    "            # otherwise just append the output link to its list\n",
    "            else:\n",
    "                adjacency_dict[input_link].append(output_link)\n",
    "            # if the output link is not in the dict, add it with empty list\n",
    "            if output_link not in adjacency_dict.keys():\n",
    "                adjacency_dict[output_link] = []\n",
    "    # get initial ranks, return the new dict containing all information\n",
    "    result = {in_link: (1.0/len(adjacency_dict), out_links) for in_link, out_links in adjacency_dict.items()}\n",
    "    # write to json file\n",
    "    with open(JSON_FILE_NAME, \"w\") as outfile:  \n",
    "        json.dump(result, outfile)\n",
    "    return result.keys()\n",
    "\n",
    "# writes the results of the mapping piece of PageRank to a small json called {link}.json\n",
    "def map(link):\n",
    "    with open(JSON_FILE_NAME) as json_file: \n",
    "        dictionary = json.load(json_file) \n",
    "    p = dictionary[str(link)][0]/len(dictionary[str(link)][1])\n",
    "    map_result = {out_link: (p, dictionary[out_link][1]) for out_link in dictionary[str(link)][1]}\n",
    "    with open(link + \".json\", \"w\") as outfile:  \n",
    "        json.dump(map_result, outfile)\n",
    "\n",
    "# reduces all of the results of the mapping jsons and overwrites the dictionary.json\n",
    "def reduce(links):\n",
    "    new_ranks = {}\n",
    "    for link in links:\n",
    "        with open(link + '.json') as json_file: \n",
    "            result = json.load(json_file)\n",
    "        for key, value in result.items():\n",
    "            if key not in new_ranks:\n",
    "                new_ranks[key] = value\n",
    "            else:\n",
    "                new_ranks[key] = (value[0] + new_ranks[key][0], new_ranks[key][1])\n",
    "    with open(JSON_FILE_NAME, \"w\") as outfile:  \n",
    "        json.dump(new_ranks, outfile)"
   ]
  },
  {
   "cell_type": "markdown",
   "metadata": {},
   "source": [
    "## MapReduce"
   ]
  },
  {
   "cell_type": "code",
   "execution_count": 2,
   "metadata": {},
   "outputs": [],
   "source": [
    "NUM_ITERATIONS = 2            # set number of iterations\n",
    "links = convert_csv_to_json() # convert the csv to json and get the links\n",
    "\n",
    "# iterate the MapReduce job the desired number of times\n",
    "for i in range(NUM_ITERATIONS):\n",
    "    for link in links:\n",
    "        map(link)\n",
    "    reduce(links)"
   ]
  },
  {
   "cell_type": "markdown",
   "metadata": {},
   "source": [
    "## Results"
   ]
  },
  {
   "cell_type": "code",
   "execution_count": 3,
   "metadata": {},
   "outputs": [
    {
     "name": "stdout",
     "output_type": "stream",
     "text": [
      "{'1': 0.3333333333333333, '2': 0.2222222222222222, '3': 0.2222222222222222, '4': 0.2222222222222222}\n"
     ]
    }
   ],
   "source": [
    "# print results\n",
    "with open(JSON_FILE_NAME) as json_file: \n",
    "    dictionary = json.load(json_file)\n",
    "print({key: dictionary[key][0] for key in sorted(dictionary.keys())})"
   ]
  }
 ],
 "metadata": {
  "kernelspec": {
   "display_name": "Python 3",
   "language": "python",
   "name": "python3"
  },
  "language_info": {
   "codemirror_mode": {
    "name": "ipython",
    "version": 3
   },
   "file_extension": ".py",
   "mimetype": "text/x-python",
   "name": "python",
   "nbconvert_exporter": "python",
   "pygments_lexer": "ipython3",
   "version": "3.7.4"
  }
 },
 "nbformat": 4,
 "nbformat_minor": 2
}
